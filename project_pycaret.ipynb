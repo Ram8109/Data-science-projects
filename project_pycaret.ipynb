{
  "nbformat": 4,
  "nbformat_minor": 0,
  "metadata": {
    "colab": {
      "provenance": []
    },
    "kernelspec": {
      "name": "python3",
      "display_name": "Python 3"
    },
    "language_info": {
      "name": "python"
    }
  },
  "cells": [
    {
      "cell_type": "code",
      "execution_count": null,
      "metadata": {
        "id": "hTMbrp0oxnwH"
      },
      "outputs": [],
      "source": [
        "from pycaret.classification import *"
      ]
    },
    {
      "cell_type": "code",
      "source": [
        "data = pd.read_csv('/content/drive/MyDrive/PROJECT/diabetic_data_original.csv')"
      ],
      "metadata": {
        "id": "5l_ku3j-xu5f"
      },
      "execution_count": null,
      "outputs": []
    },
    {
      "cell_type": "code",
      "source": [
        "df = data.copy()"
      ],
      "metadata": {
        "id": "dtvmWfsi3Dpp"
      },
      "execution_count": null,
      "outputs": []
    },
    {
      "cell_type": "code",
      "source": [
        "admission_type = pd.read_excel('/content/drive/MyDrive/PROJECT/Mapping.xlsx',sheet_name='Admission_type_id')\n",
        "discharge_disposition = pd.read_excel('/content/drive/MyDrive/PROJECT/Mapping.xlsx',sheet_name='Discharge_disposition')\n",
        "admission_source = pd.read_excel('/content/drive/MyDrive/PROJECT/Mapping.xlsx',sheet_name='Admission_source_id')"
      ],
      "metadata": {
        "id": "2-LQS3ag0_zc"
      },
      "execution_count": null,
      "outputs": []
    },
    {
      "cell_type": "code",
      "source": [
        "mapping_1 = dict(zip(discharge_disposition.discharge_disposition_id.values,\n",
        "                     discharge_disposition.description.values))\n",
        "mapping_2 = dict(zip(admission_type.admission_type_id.values,admission_type.description.values))\n",
        "mapping_3 = dict(zip(admission_source.admission_source_id.values,\n",
        "                     admission_source.description.values))"
      ],
      "metadata": {
        "id": "p3tD0NUK06mf"
      },
      "execution_count": null,
      "outputs": []
    },
    {
      "cell_type": "code",
      "source": [
        "df.discharge_disposition_id = df.discharge_disposition_id.map(mapping_1).astype('string')\n",
        "df.admission_type_id = df.admission_type_id.map(mapping_2).astype('string')\n",
        "df.admission_source_id = df.admission_source_id.map(mapping_3).astype('string')"
      ],
      "metadata": {
        "id": "8VKA7f8_25tB"
      },
      "execution_count": null,
      "outputs": []
    },
    {
      "cell_type": "code",
      "source": [
        "df = df.replace('?',np.nan)"
      ],
      "metadata": {
        "id": "RTojgYGs25va"
      },
      "execution_count": null,
      "outputs": []
    },
    {
      "cell_type": "code",
      "source": [
        "df['readmitted'] = df['readmitted'].map({'<30':'Yes','>30':'No','NO':'No'})"
      ],
      "metadata": {
        "id": "5cbpPI1h25yf"
      },
      "execution_count": null,
      "outputs": []
    },
    {
      "cell_type": "code",
      "source": [],
      "metadata": {
        "id": "ybdTvaqZ3PA_"
      },
      "execution_count": null,
      "outputs": []
    },
    {
      "cell_type": "code",
      "source": [],
      "metadata": {
        "id": "X_eeOFj63PDG"
      },
      "execution_count": null,
      "outputs": []
    },
    {
      "cell_type": "markdown",
      "source": [
        "# New Section"
      ],
      "metadata": {
        "id": "bNzZUKjn0mPd"
      }
    }
  ]
}