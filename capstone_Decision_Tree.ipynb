{
  "nbformat": 4,
  "nbformat_minor": 0,
  "metadata": {
    "colab": {
      "provenance": []
    },
    "kernelspec": {
      "name": "python3",
      "display_name": "Python 3"
    },
    "language_info": {
      "name": "python"
    }
  },
  "cells": [
    {
      "cell_type": "code",
      "execution_count": null,
      "metadata": {
        "id": "ttCQP-i276PF"
      },
      "outputs": [],
      "source": [
        "from warnings import filterwarnings\n",
        "filterwarnings(action='ignore')\n",
        "\n",
        "import numpy as np\n",
        "import pandas as pd\n",
        "\n",
        "import matplotlib.pyplot as plt\n",
        "import matplotlib.patches as mpatches\n",
        "import seaborn as sns\n",
        "import plotly.express as px\n",
        "\n",
        "import scipy.stats as stats\n",
        "from scipy.stats import zscore\n",
        "\n",
        "from sklearn.preprocessing import LabelEncoder,OneHotEncoder,OrdinalEncoder\n",
        "from sklearn.preprocessing import PolynomialFeatures,PowerTransformer,StandardScaler\n",
        "\n",
        "from sklearn.pipeline import Pipeline,make_pipeline\n",
        "from sklearn.compose import ColumnTransformer\n",
        "from sklearn.compose import make_column_selector as selector\n",
        "\n",
        "from sklearn.metrics import classification_report,accuracy_score,precision_score,confusion_matrix\n",
        "from sklearn.metrics import recall_score,f1_score,balanced_accuracy_score\n",
        "from sklearn.metrics import precision_recall_curve\n",
        "\n",
        "from sklearn.model_selection import StratifiedKFold,cross_val_score,train_test_split\n",
        "from sklearn.model_selection import GridSearchCV,RandomizedSearchCV\n",
        "\n",
        "from sklearn.linear_model import LogisticRegression\n",
        "from sklearn.svm import SVC\n",
        "from sklearn.neighbors import KNeighborsClassifier\n",
        "\n",
        "from sklearn.impute import KNNImputer\n",
        "\n",
        "from sklearn.tree import DecisionTreeClassifier\n",
        "from sklearn.ensemble import RandomForestClassifier,BaggingClassifier,VotingClassifier\n",
        "\n",
        "from imblearn.over_sampling import SMOTE,SMOTEN,SMOTENC\n",
        "\n",
        "import re"
      ]
    },
    {
      "cell_type": "code",
      "source": [
        "data = pd.read_csv('/content/drive/MyDrive/PROJECT/diabetic_data_original.csv')"
      ],
      "metadata": {
        "id": "3gwceDQf8L7n"
      },
      "execution_count": null,
      "outputs": []
    },
    {
      "cell_type": "code",
      "source": [
        "df = data.copy()"
      ],
      "metadata": {
        "id": "Xqn7PT2d8OgF"
      },
      "execution_count": null,
      "outputs": []
    },
    {
      "cell_type": "code",
      "source": [
        "admission_type = pd.read_excel('/content/drive/MyDrive/PROJECT/Mapping.xlsx',sheet_name='Admission_type_id')\n",
        "discharge_disposition = pd.read_excel('/content/drive/MyDrive/PROJECT/Mapping.xlsx',sheet_name='Discharge_disposition')\n",
        "admission_source = pd.read_excel('/content/drive/MyDrive/PROJECT/Mapping.xlsx',sheet_name='Admission_source_id')"
      ],
      "metadata": {
        "id": "w87VVSk-8PKC"
      },
      "execution_count": null,
      "outputs": []
    },
    {
      "cell_type": "code",
      "source": [
        "mapping_1 = dict(zip(discharge_disposition.discharge_disposition_id.values,\n",
        "                     discharge_disposition.description.values))\n",
        "mapping_2 = dict(zip(admission_type.admission_type_id.values,admission_type.description.values))\n",
        "mapping_3 = dict(zip(admission_source.admission_source_id.values,\n",
        "                     admission_source.description.values))"
      ],
      "metadata": {
        "id": "1Fnq5xkG8Pz7"
      },
      "execution_count": null,
      "outputs": []
    },
    {
      "cell_type": "code",
      "source": [
        "df.discharge_disposition_id = df.discharge_disposition_id.map(mapping_1).astype('string')\n",
        "df.admission_type_id = df.admission_type_id.map(mapping_2).astype('string')\n",
        "df.admission_source_id = df.admission_source_id.map(mapping_3).astype('string')"
      ],
      "metadata": {
        "id": "Tvu73kAx8P2m"
      },
      "execution_count": null,
      "outputs": []
    },
    {
      "cell_type": "code",
      "source": [
        "df = df.replace('?',np.nan)"
      ],
      "metadata": {
        "id": "OrN4mBaL8P57"
      },
      "execution_count": null,
      "outputs": []
    },
    {
      "cell_type": "code",
      "source": [
        "df['readmitted'] = df['readmitted'].map({'<30':'Yes','>30':'No','NO':'No'})"
      ],
      "metadata": {
        "id": "maR6BZIW8P8c"
      },
      "execution_count": null,
      "outputs": []
    },
    {
      "cell_type": "code",
      "source": [
        "df = df.rename(columns={'diag_1':'diagnosis_1','diag_2':'diagnosis_2','diag_3':'diagnosis_3'})"
      ],
      "metadata": {
        "id": "Ajqgo73u_Km9"
      },
      "execution_count": null,
      "outputs": []
    },
    {
      "cell_type": "code",
      "source": [
        "df.head()"
      ],
      "metadata": {
        "colab": {
          "base_uri": "https://localhost:8080/",
          "height": 404
        },
        "id": "ERL1eJ8E8P_d",
        "outputId": "a988693a-0852-47e9-e0df-5c2564f4480b"
      },
      "execution_count": null,
      "outputs": [
        {
          "output_type": "execute_result",
          "data": {
            "text/plain": [
              "   encounter_id  patient_nbr             race  gender      age weight  \\\n",
              "0       2278392      8222157        Caucasian  Female   [0-10)    NaN   \n",
              "1        149190     55629189        Caucasian  Female  [10-20)    NaN   \n",
              "2         64410     86047875  AfricanAmerican  Female  [20-30)    NaN   \n",
              "3        500364     82442376        Caucasian    Male  [30-40)    NaN   \n",
              "4         16680     42519267        Caucasian    Male  [40-50)    NaN   \n",
              "\n",
              "  admission_type_id discharge_disposition_id  admission_source_id  \\\n",
              "0              <NA>               Not Mapped   Physician Referral   \n",
              "1         Emergency       Discharged to home       Emergency Room   \n",
              "2         Emergency       Discharged to home       Emergency Room   \n",
              "3         Emergency       Discharged to home       Emergency Room   \n",
              "4         Emergency       Discharged to home       Emergency Room   \n",
              "\n",
              "   time_in_hospital  ... citoglipton insulin  glyburide-metformin  \\\n",
              "0                 1  ...          No      No                   No   \n",
              "1                 3  ...          No      Up                   No   \n",
              "2                 2  ...          No      No                   No   \n",
              "3                 2  ...          No      Up                   No   \n",
              "4                 1  ...          No  Steady                   No   \n",
              "\n",
              "   glipizide-metformin  glimepiride-pioglitazone  metformin-rosiglitazone  \\\n",
              "0                   No                        No                       No   \n",
              "1                   No                        No                       No   \n",
              "2                   No                        No                       No   \n",
              "3                   No                        No                       No   \n",
              "4                   No                        No                       No   \n",
              "\n",
              "   metformin-pioglitazone  change diabetesMed readmitted  \n",
              "0                      No      No          No         No  \n",
              "1                      No      Ch         Yes         No  \n",
              "2                      No      No         Yes         No  \n",
              "3                      No      Ch         Yes         No  \n",
              "4                      No      Ch         Yes         No  \n",
              "\n",
              "[5 rows x 50 columns]"
            ],
            "text/html": [
              "\n",
              "  <div id=\"df-5233c502-f9da-41a8-a0d6-4a4ebdb7e135\">\n",
              "    <div class=\"colab-df-container\">\n",
              "      <div>\n",
              "<style scoped>\n",
              "    .dataframe tbody tr th:only-of-type {\n",
              "        vertical-align: middle;\n",
              "    }\n",
              "\n",
              "    .dataframe tbody tr th {\n",
              "        vertical-align: top;\n",
              "    }\n",
              "\n",
              "    .dataframe thead th {\n",
              "        text-align: right;\n",
              "    }\n",
              "</style>\n",
              "<table border=\"1\" class=\"dataframe\">\n",
              "  <thead>\n",
              "    <tr style=\"text-align: right;\">\n",
              "      <th></th>\n",
              "      <th>encounter_id</th>\n",
              "      <th>patient_nbr</th>\n",
              "      <th>race</th>\n",
              "      <th>gender</th>\n",
              "      <th>age</th>\n",
              "      <th>weight</th>\n",
              "      <th>admission_type_id</th>\n",
              "      <th>discharge_disposition_id</th>\n",
              "      <th>admission_source_id</th>\n",
              "      <th>time_in_hospital</th>\n",
              "      <th>...</th>\n",
              "      <th>citoglipton</th>\n",
              "      <th>insulin</th>\n",
              "      <th>glyburide-metformin</th>\n",
              "      <th>glipizide-metformin</th>\n",
              "      <th>glimepiride-pioglitazone</th>\n",
              "      <th>metformin-rosiglitazone</th>\n",
              "      <th>metformin-pioglitazone</th>\n",
              "      <th>change</th>\n",
              "      <th>diabetesMed</th>\n",
              "      <th>readmitted</th>\n",
              "    </tr>\n",
              "  </thead>\n",
              "  <tbody>\n",
              "    <tr>\n",
              "      <th>0</th>\n",
              "      <td>2278392</td>\n",
              "      <td>8222157</td>\n",
              "      <td>Caucasian</td>\n",
              "      <td>Female</td>\n",
              "      <td>[0-10)</td>\n",
              "      <td>NaN</td>\n",
              "      <td>&lt;NA&gt;</td>\n",
              "      <td>Not Mapped</td>\n",
              "      <td>Physician Referral</td>\n",
              "      <td>1</td>\n",
              "      <td>...</td>\n",
              "      <td>No</td>\n",
              "      <td>No</td>\n",
              "      <td>No</td>\n",
              "      <td>No</td>\n",
              "      <td>No</td>\n",
              "      <td>No</td>\n",
              "      <td>No</td>\n",
              "      <td>No</td>\n",
              "      <td>No</td>\n",
              "      <td>No</td>\n",
              "    </tr>\n",
              "    <tr>\n",
              "      <th>1</th>\n",
              "      <td>149190</td>\n",
              "      <td>55629189</td>\n",
              "      <td>Caucasian</td>\n",
              "      <td>Female</td>\n",
              "      <td>[10-20)</td>\n",
              "      <td>NaN</td>\n",
              "      <td>Emergency</td>\n",
              "      <td>Discharged to home</td>\n",
              "      <td>Emergency Room</td>\n",
              "      <td>3</td>\n",
              "      <td>...</td>\n",
              "      <td>No</td>\n",
              "      <td>Up</td>\n",
              "      <td>No</td>\n",
              "      <td>No</td>\n",
              "      <td>No</td>\n",
              "      <td>No</td>\n",
              "      <td>No</td>\n",
              "      <td>Ch</td>\n",
              "      <td>Yes</td>\n",
              "      <td>No</td>\n",
              "    </tr>\n",
              "    <tr>\n",
              "      <th>2</th>\n",
              "      <td>64410</td>\n",
              "      <td>86047875</td>\n",
              "      <td>AfricanAmerican</td>\n",
              "      <td>Female</td>\n",
              "      <td>[20-30)</td>\n",
              "      <td>NaN</td>\n",
              "      <td>Emergency</td>\n",
              "      <td>Discharged to home</td>\n",
              "      <td>Emergency Room</td>\n",
              "      <td>2</td>\n",
              "      <td>...</td>\n",
              "      <td>No</td>\n",
              "      <td>No</td>\n",
              "      <td>No</td>\n",
              "      <td>No</td>\n",
              "      <td>No</td>\n",
              "      <td>No</td>\n",
              "      <td>No</td>\n",
              "      <td>No</td>\n",
              "      <td>Yes</td>\n",
              "      <td>No</td>\n",
              "    </tr>\n",
              "    <tr>\n",
              "      <th>3</th>\n",
              "      <td>500364</td>\n",
              "      <td>82442376</td>\n",
              "      <td>Caucasian</td>\n",
              "      <td>Male</td>\n",
              "      <td>[30-40)</td>\n",
              "      <td>NaN</td>\n",
              "      <td>Emergency</td>\n",
              "      <td>Discharged to home</td>\n",
              "      <td>Emergency Room</td>\n",
              "      <td>2</td>\n",
              "      <td>...</td>\n",
              "      <td>No</td>\n",
              "      <td>Up</td>\n",
              "      <td>No</td>\n",
              "      <td>No</td>\n",
              "      <td>No</td>\n",
              "      <td>No</td>\n",
              "      <td>No</td>\n",
              "      <td>Ch</td>\n",
              "      <td>Yes</td>\n",
              "      <td>No</td>\n",
              "    </tr>\n",
              "    <tr>\n",
              "      <th>4</th>\n",
              "      <td>16680</td>\n",
              "      <td>42519267</td>\n",
              "      <td>Caucasian</td>\n",
              "      <td>Male</td>\n",
              "      <td>[40-50)</td>\n",
              "      <td>NaN</td>\n",
              "      <td>Emergency</td>\n",
              "      <td>Discharged to home</td>\n",
              "      <td>Emergency Room</td>\n",
              "      <td>1</td>\n",
              "      <td>...</td>\n",
              "      <td>No</td>\n",
              "      <td>Steady</td>\n",
              "      <td>No</td>\n",
              "      <td>No</td>\n",
              "      <td>No</td>\n",
              "      <td>No</td>\n",
              "      <td>No</td>\n",
              "      <td>Ch</td>\n",
              "      <td>Yes</td>\n",
              "      <td>No</td>\n",
              "    </tr>\n",
              "  </tbody>\n",
              "</table>\n",
              "<p>5 rows × 50 columns</p>\n",
              "</div>\n",
              "      <button class=\"colab-df-convert\" onclick=\"convertToInteractive('df-5233c502-f9da-41a8-a0d6-4a4ebdb7e135')\"\n",
              "              title=\"Convert this dataframe to an interactive table.\"\n",
              "              style=\"display:none;\">\n",
              "        \n",
              "  <svg xmlns=\"http://www.w3.org/2000/svg\" height=\"24px\"viewBox=\"0 0 24 24\"\n",
              "       width=\"24px\">\n",
              "    <path d=\"M0 0h24v24H0V0z\" fill=\"none\"/>\n",
              "    <path d=\"M18.56 5.44l.94 2.06.94-2.06 2.06-.94-2.06-.94-.94-2.06-.94 2.06-2.06.94zm-11 1L8.5 8.5l.94-2.06 2.06-.94-2.06-.94L8.5 2.5l-.94 2.06-2.06.94zm10 10l.94 2.06.94-2.06 2.06-.94-2.06-.94-.94-2.06-.94 2.06-2.06.94z\"/><path d=\"M17.41 7.96l-1.37-1.37c-.4-.4-.92-.59-1.43-.59-.52 0-1.04.2-1.43.59L10.3 9.45l-7.72 7.72c-.78.78-.78 2.05 0 2.83L4 21.41c.39.39.9.59 1.41.59.51 0 1.02-.2 1.41-.59l7.78-7.78 2.81-2.81c.8-.78.8-2.07 0-2.86zM5.41 20L4 18.59l7.72-7.72 1.47 1.35L5.41 20z\"/>\n",
              "  </svg>\n",
              "      </button>\n",
              "      \n",
              "  <style>\n",
              "    .colab-df-container {\n",
              "      display:flex;\n",
              "      flex-wrap:wrap;\n",
              "      gap: 12px;\n",
              "    }\n",
              "\n",
              "    .colab-df-convert {\n",
              "      background-color: #E8F0FE;\n",
              "      border: none;\n",
              "      border-radius: 50%;\n",
              "      cursor: pointer;\n",
              "      display: none;\n",
              "      fill: #1967D2;\n",
              "      height: 32px;\n",
              "      padding: 0 0 0 0;\n",
              "      width: 32px;\n",
              "    }\n",
              "\n",
              "    .colab-df-convert:hover {\n",
              "      background-color: #E2EBFA;\n",
              "      box-shadow: 0px 1px 2px rgba(60, 64, 67, 0.3), 0px 1px 3px 1px rgba(60, 64, 67, 0.15);\n",
              "      fill: #174EA6;\n",
              "    }\n",
              "\n",
              "    [theme=dark] .colab-df-convert {\n",
              "      background-color: #3B4455;\n",
              "      fill: #D2E3FC;\n",
              "    }\n",
              "\n",
              "    [theme=dark] .colab-df-convert:hover {\n",
              "      background-color: #434B5C;\n",
              "      box-shadow: 0px 1px 3px 1px rgba(0, 0, 0, 0.15);\n",
              "      filter: drop-shadow(0px 1px 2px rgba(0, 0, 0, 0.3));\n",
              "      fill: #FFFFFF;\n",
              "    }\n",
              "  </style>\n",
              "\n",
              "      <script>\n",
              "        const buttonEl =\n",
              "          document.querySelector('#df-5233c502-f9da-41a8-a0d6-4a4ebdb7e135 button.colab-df-convert');\n",
              "        buttonEl.style.display =\n",
              "          google.colab.kernel.accessAllowed ? 'block' : 'none';\n",
              "\n",
              "        async function convertToInteractive(key) {\n",
              "          const element = document.querySelector('#df-5233c502-f9da-41a8-a0d6-4a4ebdb7e135');\n",
              "          const dataTable =\n",
              "            await google.colab.kernel.invokeFunction('convertToInteractive',\n",
              "                                                     [key], {});\n",
              "          if (!dataTable) return;\n",
              "\n",
              "          const docLinkHtml = 'Like what you see? Visit the ' +\n",
              "            '<a target=\"_blank\" href=https://colab.research.google.com/notebooks/data_table.ipynb>data table notebook</a>'\n",
              "            + ' to learn more about interactive tables.';\n",
              "          element.innerHTML = '';\n",
              "          dataTable['output_type'] = 'display_data';\n",
              "          await google.colab.output.renderOutput(dataTable, element);\n",
              "          const docLink = document.createElement('div');\n",
              "          docLink.innerHTML = docLinkHtml;\n",
              "          element.appendChild(docLink);\n",
              "        }\n",
              "      </script>\n",
              "    </div>\n",
              "  </div>\n",
              "  "
            ]
          },
          "metadata": {},
          "execution_count": 10
        }
      ]
    },
    {
      "cell_type": "code",
      "source": [
        "# Patients who have visited multiple times\n",
        "\n",
        "both_multiple_visit = list(df['patient_nbr'].value_counts()[df['patient_nbr'].value_counts() > 1].index)\n",
        "\n",
        "# Patients who have not filled 'race' information & visited multiple times\n",
        "\n",
        "race_multiple_but_null = df[(df['patient_nbr'].isin(both_multiple_visit)) & (df['race'].isnull())]\n",
        "race_multiple_but_null_unique = race_multiple_but_null['patient_nbr'].unique()\n",
        "\n",
        "# Patients who have filled 'race' information & visited multiple times\n",
        "\n",
        "race_multiple_but_filled = df[(df['patient_nbr'].isin(both_multiple_visit)) & (df['race'].notna())]\n",
        "race_multiple_but_filled_unique = race_multiple_but_filled['patient_nbr'].unique()\n",
        "\n",
        "patients_imputation = [patient_nbr for patient_nbr in race_multiple_but_null_unique \n",
        " if patient_nbr in race_multiple_but_filled_unique]\n",
        "\n",
        "print(\"Patients who have not filled 'race' in one of the visits among multiple visits :\",\n",
        "     len(patients_imputation))"
      ],
      "metadata": {
        "colab": {
          "base_uri": "https://localhost:8080/"
        },
        "id": "ghY9efhs8QCQ",
        "outputId": "7c9239e1-612f-4067-bb7d-32871cc699d1"
      },
      "execution_count": null,
      "outputs": [
        {
          "output_type": "stream",
          "name": "stdout",
          "text": [
            "Patients who have not filled 'race' in one of the visits among multiple visits : 127\n"
          ]
        }
      ]
    },
    {
      "cell_type": "code",
      "source": [
        "race_imputation_df = race_multiple_but_filled[race_multiple_but_filled['patient_nbr'].isin(patients_imputation)]\n",
        "race_imputation_dict = race_imputation_df.set_index('patient_nbr')['race'].to_dict()\n",
        "\n",
        "def bivariate_imputation(row,map_dict):\n",
        "    if (pd.isna(row['race'])) and (row['patient_nbr'] in map_dict):\n",
        "        row['race'] = map_dict[row['patient_nbr']]\n",
        "    return row"
      ],
      "metadata": {
        "id": "LzNEv01H99SR"
      },
      "execution_count": null,
      "outputs": []
    },
    {
      "cell_type": "code",
      "source": [
        "# checking null values before imputation\n",
        "\n",
        "df['race'].isnull().sum()"
      ],
      "metadata": {
        "colab": {
          "base_uri": "https://localhost:8080/"
        },
        "id": "22W49GGG-CG-",
        "outputId": "16d5268b-ab4a-4349-d051-ea7013969e42"
      },
      "execution_count": null,
      "outputs": [
        {
          "output_type": "execute_result",
          "data": {
            "text/plain": [
              "2273"
            ]
          },
          "metadata": {},
          "execution_count": 13
        }
      ]
    },
    {
      "cell_type": "code",
      "source": [
        "df = df.apply(bivariate_imputation,axis=1,args=[race_imputation_dict])"
      ],
      "metadata": {
        "id": "xSjvVdgk-D8u"
      },
      "execution_count": null,
      "outputs": []
    },
    {
      "cell_type": "code",
      "source": [
        "# Checking null values after imputation\n",
        "\n",
        "df['race'].isnull().sum()\n",
        "\n",
        "# so we have filled 127 records\n",
        "# Fill rest through KNN-Imputer"
      ],
      "metadata": {
        "colab": {
          "base_uri": "https://localhost:8080/"
        },
        "id": "8S9eocdz-Fvt",
        "outputId": "c136e6d1-4f4c-4116-921a-985e974f44c8"
      },
      "execution_count": null,
      "outputs": [
        {
          "output_type": "execute_result",
          "data": {
            "text/plain": [
              "2129"
            ]
          },
          "metadata": {},
          "execution_count": 15
        }
      ]
    },
    {
      "cell_type": "code",
      "source": [
        "df['readmitted'] = df['readmitted'] = df.readmitted.map({'<30':'Readmitted','>30':'Not readmitted','NO':'Not readmitted'})"
      ],
      "metadata": {
        "id": "6EZpVW_E-PEs"
      },
      "execution_count": null,
      "outputs": []
    },
    {
      "cell_type": "code",
      "source": [
        "df['readmitted'] = LabelEncoder().fit_transform(df['readmitted'])"
      ],
      "metadata": {
        "id": "ul2bQwAy-Q5R"
      },
      "execution_count": null,
      "outputs": []
    },
    {
      "cell_type": "code",
      "source": [
        "df['gender'] = df['gender'].fillna(df['gender'].mode())"
      ],
      "metadata": {
        "id": "KuS7jA3W-SmA"
      },
      "execution_count": null,
      "outputs": []
    },
    {
      "cell_type": "code",
      "source": [
        "df.columns"
      ],
      "metadata": {
        "colab": {
          "base_uri": "https://localhost:8080/"
        },
        "id": "hhq3Snv--UFZ",
        "outputId": "c6b67603-ef34-43ef-8d5e-286bafcfb9a3"
      },
      "execution_count": null,
      "outputs": [
        {
          "output_type": "execute_result",
          "data": {
            "text/plain": [
              "Index(['encounter_id', 'patient_nbr', 'race', 'gender', 'age', 'weight',\n",
              "       'admission_type_id', 'discharge_disposition_id', 'admission_source_id',\n",
              "       'time_in_hospital', 'payer_code', 'medical_specialty',\n",
              "       'num_lab_procedures', 'num_procedures', 'num_medications',\n",
              "       'number_outpatient', 'number_emergency', 'number_inpatient',\n",
              "       'diagnosis_1', 'diagnosis_2', 'diagnosis_3', 'number_diagnoses',\n",
              "       'max_glu_serum', 'A1Cresult', 'metformin', 'repaglinide', 'nateglinide',\n",
              "       'chlorpropamide', 'glimepiride', 'acetohexamide', 'glipizide',\n",
              "       'glyburide', 'tolbutamide', 'pioglitazone', 'rosiglitazone', 'acarbose',\n",
              "       'miglitol', 'troglitazone', 'tolazamide', 'examide', 'citoglipton',\n",
              "       'insulin', 'glyburide-metformin', 'glipizide-metformin',\n",
              "       'glimepiride-pioglitazone', 'metformin-rosiglitazone',\n",
              "       'metformin-pioglitazone', 'change', 'diabetesMed', 'readmitted'],\n",
              "      dtype='object')"
            ]
          },
          "metadata": {},
          "execution_count": 19
        }
      ]
    },
    {
      "cell_type": "code",
      "source": [
        "drop_list = ['encounter_id', 'patient_nbr','weight','payer_code',\n",
        "            'acetohexamide','troglitazone','examide','citoglipton','glimepiride-pioglitazone',\n",
        "            'metformin-rosiglitazone','metformin-pioglitazone']\n",
        "drop_list_no_medicine = ['encounter_id', 'patient_nbr','weight','payer_code']"
      ],
      "metadata": {
        "id": "0-pjbY2S-dgM"
      },
      "execution_count": null,
      "outputs": []
    },
    {
      "cell_type": "code",
      "source": [
        "df = df.drop(columns=drop_list)"
      ],
      "metadata": {
        "id": "EfLApmNa-di9"
      },
      "execution_count": null,
      "outputs": []
    },
    {
      "cell_type": "code",
      "source": [
        "def admission_source_encoding(x):\n",
        "    if 'Referral' in str(x).split():\n",
        "        return 'Referral'\n",
        "    elif 'Emergency' in str(x).split():\n",
        "        return 'Emergency'\n",
        "    else:\n",
        "        return 'other'\n",
        "df.admission_source_id = df.admission_source_id.map(admission_source_encoding)"
      ],
      "metadata": {
        "id": "D4AoXI-H-dl2"
      },
      "execution_count": null,
      "outputs": []
    },
    {
      "cell_type": "code",
      "source": [
        "df.admission_source_id.value_counts()"
      ],
      "metadata": {
        "colab": {
          "base_uri": "https://localhost:8080/"
        },
        "id": "qML19YLP-doz",
        "outputId": "7824e2d4-c43d-4b35-80c8-716427824a5f"
      },
      "execution_count": null,
      "outputs": [
        {
          "output_type": "execute_result",
          "data": {
            "text/plain": [
              "Emergency    57494\n",
              "Referral     30856\n",
              "other        13416\n",
              "Name: admission_source_id, dtype: int64"
            ]
          },
          "metadata": {},
          "execution_count": 23
        }
      ]
    },
    {
      "cell_type": "code",
      "source": [
        "df.admission_type_id.value_counts(dropna=False)"
      ],
      "metadata": {
        "colab": {
          "base_uri": "https://localhost:8080/"
        },
        "id": "6j39CYhR-npU",
        "outputId": "64a180dd-5ca7-4e01-9ac9-895e899cf1f0"
      },
      "execution_count": null,
      "outputs": [
        {
          "output_type": "execute_result",
          "data": {
            "text/plain": [
              "Emergency        53990\n",
              "Elective         18869\n",
              "Urgent           18480\n",
              "NaN               5291\n",
              "Not Available     4785\n",
              "Not Mapped         320\n",
              "Trauma Center       21\n",
              "Newborn             10\n",
              "Name: admission_type_id, dtype: int64"
            ]
          },
          "metadata": {},
          "execution_count": 24
        }
      ]
    },
    {
      "cell_type": "code",
      "source": [
        "df.admission_type_id.isnull().sum()"
      ],
      "metadata": {
        "colab": {
          "base_uri": "https://localhost:8080/"
        },
        "id": "tk4IW3qd-pWW",
        "outputId": "e5053cc6-fcfe-4d60-e7ea-45326ee154c8"
      },
      "execution_count": null,
      "outputs": [
        {
          "output_type": "execute_result",
          "data": {
            "text/plain": [
              "5291"
            ]
          },
          "metadata": {},
          "execution_count": 25
        }
      ]
    },
    {
      "cell_type": "code",
      "source": [
        "df.loc[df.admission_type_id.isnull(),'admission_type_id'] = np.nan"
      ],
      "metadata": {
        "id": "kpVoa-jV-vVL"
      },
      "execution_count": null,
      "outputs": []
    },
    {
      "cell_type": "code",
      "source": [
        "def admission_type_encoding(x):\n",
        "    if x in ['Not Available','Not Mapped','Trauma Center','Newborn']:\n",
        "        return 'others'\n",
        "    elif pd.isna(x):\n",
        "        return 'Not mentioned'\n",
        "    else:\n",
        "        return x\n",
        "df.admission_type_id = df.admission_type_id.map(admission_type_encoding)"
      ],
      "metadata": {
        "id": "wEncDHBv-xE3"
      },
      "execution_count": null,
      "outputs": []
    },
    {
      "cell_type": "code",
      "source": [
        "df.admission_type_id.value_counts()"
      ],
      "metadata": {
        "colab": {
          "base_uri": "https://localhost:8080/"
        },
        "id": "8J9UKcpt-y1S",
        "outputId": "c2189d37-18c0-4efa-8913-3bc8f63fe010"
      },
      "execution_count": null,
      "outputs": [
        {
          "output_type": "execute_result",
          "data": {
            "text/plain": [
              "Emergency        53990\n",
              "Elective         18869\n",
              "Urgent           18480\n",
              "Not mentioned     5291\n",
              "others            5136\n",
              "Name: admission_type_id, dtype: int64"
            ]
          },
          "metadata": {},
          "execution_count": 28
        }
      ]
    },
    {
      "cell_type": "code",
      "source": [
        "df.discharge_disposition_id.value_counts()"
      ],
      "metadata": {
        "colab": {
          "base_uri": "https://localhost:8080/"
        },
        "id": "kfmkm8zk-37Y",
        "outputId": "8244efcf-04d4-4b82-c28d-56397002c09e"
      },
      "execution_count": null,
      "outputs": [
        {
          "output_type": "execute_result",
          "data": {
            "text/plain": [
              "Discharged to home                                                                                           60234\n",
              "Discharged/transferred to SNF                                                                                13954\n",
              "Discharged/transferred to home with home health service                                                      12902\n",
              "Discharged/transferred to another short term hospital                                                         2128\n",
              "Discharged/transferred to another rehab fac including rehab units of a hospital .                             1993\n",
              "Expired                                                                                                       1642\n",
              "Discharged/transferred to another type of inpatient care institution                                          1184\n",
              "Not Mapped                                                                                                     989\n",
              "Discharged/transferred to ICF                                                                                  815\n",
              "Left AMA                                                                                                       623\n",
              "Discharged/transferred to a long term care hospital.                                                           412\n",
              "Hospice / home                                                                                                 399\n",
              "Hospice / medical facility                                                                                     372\n",
              "Discharged/transferred/referred to a psychiatric hospital of psychiatric distinct part unit of a hospital      139\n",
              "Discharged/transferred to home under care of Home IV provider                                                  108\n",
              "Discharged/transferred within this institution to Medicare approved swing bed                                   63\n",
              "Discharged/transferred to a nursing facility certified under Medicaid but not certified under Medicare.         48\n",
              "Admitted as an inpatient to this hospital                                                                       21\n",
              "Discharged/transferred/referred to this institution for outpatient services                                     14\n",
              "Discharged/transferred/referred another institution for outpatient services                                     11\n",
              "Expired at home. Medicaid only, hospice.                                                                         8\n",
              "Neonate discharged to another hospital for neonatal aftercare                                                    6\n",
              "Discharged/transferred to a federal health care facility.                                                        5\n",
              "Still patient or expected to return for outpatient services                                                      3\n",
              "Expired in a medical facility. Medicaid only, hospice.                                                           2\n",
              "Name: discharge_disposition_id, dtype: int64"
            ]
          },
          "metadata": {},
          "execution_count": 29
        }
      ]
    },
    {
      "cell_type": "code",
      "source": [
        "df.discharge_disposition_id = df.discharge_disposition_id.astype(str)"
      ],
      "metadata": {
        "id": "pJfogTNW-7Ho"
      },
      "execution_count": null,
      "outputs": []
    },
    {
      "cell_type": "code",
      "source": [
        "def dishcharge_encoding(x):\n",
        "    # let us remove patients who are transferred to 'Hospice' or 'expired'\n",
        "    if ('hospice' in str(x).lower()) or ('Expired' in str(x).lower()):\n",
        "        return np.nan\n",
        "    elif 'discharged to home' in str(x).lower():\n",
        "        return 'Discharge'\n",
        "    elif 'transfer' in str(x).lower():\n",
        "        return 'Transfer'\n",
        "    else:\n",
        "        return 'Other'\n",
        "df.discharge_disposition_id = df.discharge_disposition_id.apply(dishcharge_encoding)"
      ],
      "metadata": {
        "id": "age1XpTX-80h"
      },
      "execution_count": null,
      "outputs": []
    },
    {
      "cell_type": "code",
      "source": [
        "# Converting all strings to -1 to make attribute homogeneous\n",
        "# Converting these columns to float64 datatype\n",
        "\n",
        "diagnosis = ['diagnosis_1','diagnosis_2','diagnosis_3']\n",
        "for diag in diagnosis:\n",
        "    df[diag].loc[df[diag].astype('string').str.contains('[A-Za-z].+[0-9]*')] = -1\n",
        "    df[diag] = df[diag].astype(np.float64)"
      ],
      "metadata": {
        "id": "tJiFe-UG-_Ii"
      },
      "execution_count": null,
      "outputs": []
    },
    {
      "cell_type": "code",
      "source": [
        "def diagnosis_encoding(x):\n",
        "    if pd.isna(x):\n",
        "        return np.nan\n",
        "    elif (x >= 140) and (x <= 239):\n",
        "        return 'Neoplasms'\n",
        "    elif x == 785 or (x >=390 and x <= 459):\n",
        "        return 'circulatory'\n",
        "    elif x == 786 or (x >= 460 and x <= 519):\n",
        "        return 'Respiratory'\n",
        "    elif x == 787 or (x >= 520 and x <= 579):\n",
        "        return 'Digestive'\n",
        "    elif x >= 250 and (x >= 250 and x <= 251):\n",
        "        return 'Diabetes'\n",
        "    elif x >= 800 and x <= 1000:\n",
        "        return 'Injury'\n",
        "    elif x >= 710 and x <= 739:\n",
        "        return 'Musculoskeletal'\n",
        "    elif (x >=580 and x <= 629) or x == 788: \n",
        "        return 'Genitourinary'\n",
        "    elif x == -1:\n",
        "        return 'other'\n",
        "    else: \n",
        "        return 'other'"
      ],
      "metadata": {
        "id": "KqW0S-nF_WFl"
      },
      "execution_count": null,
      "outputs": []
    },
    {
      "cell_type": "code",
      "source": [
        "df['diagnosis_3'].apply(diagnosis_encoding)"
      ],
      "metadata": {
        "colab": {
          "base_uri": "https://localhost:8080/"
        },
        "id": "qNklRfAp_YB5",
        "outputId": "173bdc81-2aa5-4baa-f291-f141417d39f3"
      },
      "execution_count": null,
      "outputs": [
        {
          "output_type": "execute_result",
          "data": {
            "text/plain": [
              "0                 NaN\n",
              "1               other\n",
              "2               other\n",
              "3         circulatory\n",
              "4            Diabetes\n",
              "             ...     \n",
              "101761    circulatory\n",
              "101762      Digestive\n",
              "101763          other\n",
              "101764         Injury\n",
              "101765      Digestive\n",
              "Name: diagnosis_3, Length: 101766, dtype: object"
            ]
          },
          "metadata": {},
          "execution_count": 34
        }
      ]
    },
    {
      "cell_type": "code",
      "source": [
        "# Applying function to primary, secondary and Additional secondary columnnosis\n",
        "\n",
        "diagnosis = ['diagnosis_1','diagnosis_2','diagnosis_3']\n",
        "\n",
        "for column in diagnosis:\n",
        "    df[column] = df[column].apply(diagnosis_encoding)"
      ],
      "metadata": {
        "id": "vaXS4Wec_afw"
      },
      "execution_count": null,
      "outputs": []
    },
    {
      "cell_type": "code",
      "source": [
        "df.medical_specialty.value_counts().nlargest(10)"
      ],
      "metadata": {
        "colab": {
          "base_uri": "https://localhost:8080/"
        },
        "id": "naL15fP6_ctA",
        "outputId": "3d1acc9e-2690-4a20-9399-55a8fb80cdab"
      },
      "execution_count": null,
      "outputs": [
        {
          "output_type": "execute_result",
          "data": {
            "text/plain": [
              "InternalMedicine              14635\n",
              "Emergency/Trauma               7565\n",
              "Family/GeneralPractice         7440\n",
              "Cardiology                     5352\n",
              "Surgery-General                3099\n",
              "Nephrology                     1613\n",
              "Orthopedics                    1400\n",
              "Orthopedics-Reconstructive     1233\n",
              "Radiologist                    1140\n",
              "Pulmonology                     871\n",
              "Name: medical_specialty, dtype: int64"
            ]
          },
          "metadata": {},
          "execution_count": 36
        }
      ]
    },
    {
      "cell_type": "code",
      "source": [
        "def medical_speciality_encoding(x):\n",
        "    if pd.isna(x):\n",
        "        return 'Missing'\n",
        "    else:\n",
        "        if x in 'InternalMedicine':\n",
        "            return 'InternalMedicine'\n",
        "        elif x in 'Emergency/Trauma':\n",
        "            return 'Emergency/Trauma'\n",
        "        elif x in 'Family/GeneralPractise':\n",
        "            return 'Family/GeneralPractise'\n",
        "        elif x in 'Cardiology':\n",
        "            return 'Cardiology'\n",
        "        elif 'Surgery' in x:\n",
        "            return 'Surgery'\n",
        "        else:\n",
        "            return 'Others'\n",
        "df.medical_specialty = df.medical_specialty.apply(medical_speciality_encoding)"
      ],
      "metadata": {
        "id": "VPDYsOEd_fQo"
      },
      "execution_count": null,
      "outputs": []
    },
    {
      "cell_type": "code",
      "source": [
        "df.medical_specialty.value_counts(dropna=False)"
      ],
      "metadata": {
        "colab": {
          "base_uri": "https://localhost:8080/"
        },
        "id": "5prMS94W_hVc",
        "outputId": "5b89a819-09f6-4e2d-9ade-193aea68fe3d"
      },
      "execution_count": null,
      "outputs": [
        {
          "output_type": "execute_result",
          "data": {
            "text/plain": [
              "Missing             49949\n",
              "Others              19234\n",
              "InternalMedicine    14635\n",
              "Emergency/Trauma     7565\n",
              "Cardiology           5352\n",
              "Surgery              5031\n",
              "Name: medical_specialty, dtype: int64"
            ]
          },
          "metadata": {},
          "execution_count": 38
        }
      ]
    },
    {
      "cell_type": "code",
      "source": [
        "df.columns"
      ],
      "metadata": {
        "colab": {
          "base_uri": "https://localhost:8080/"
        },
        "id": "Vyv9oW95_i3z",
        "outputId": "42a37e94-c6dd-4299-b011-7b2eaa319dd2"
      },
      "execution_count": null,
      "outputs": [
        {
          "output_type": "execute_result",
          "data": {
            "text/plain": [
              "Index(['race', 'gender', 'age', 'admission_type_id',\n",
              "       'discharge_disposition_id', 'admission_source_id', 'time_in_hospital',\n",
              "       'medical_specialty', 'num_lab_procedures', 'num_procedures',\n",
              "       'num_medications', 'number_outpatient', 'number_emergency',\n",
              "       'number_inpatient', 'diagnosis_1', 'diagnosis_2', 'diagnosis_3',\n",
              "       'number_diagnoses', 'max_glu_serum', 'A1Cresult', 'metformin',\n",
              "       'repaglinide', 'nateglinide', 'chlorpropamide', 'glimepiride',\n",
              "       'glipizide', 'glyburide', 'tolbutamide', 'pioglitazone',\n",
              "       'rosiglitazone', 'acarbose', 'miglitol', 'tolazamide', 'insulin',\n",
              "       'glyburide-metformin', 'glipizide-metformin', 'change', 'diabetesMed',\n",
              "       'readmitted'],\n",
              "      dtype='object')"
            ]
          },
          "metadata": {},
          "execution_count": 39
        }
      ]
    },
    {
      "cell_type": "code",
      "source": [
        "df.admission_type_id.value_counts()"
      ],
      "metadata": {
        "colab": {
          "base_uri": "https://localhost:8080/"
        },
        "id": "7Ldqz4Bu_kq-",
        "outputId": "e549f1a9-2b09-471f-9c5e-5d8e4c644cee"
      },
      "execution_count": null,
      "outputs": [
        {
          "output_type": "execute_result",
          "data": {
            "text/plain": [
              "Emergency        53990\n",
              "Elective         18869\n",
              "Urgent           18480\n",
              "Not mentioned     5291\n",
              "others            5136\n",
              "Name: admission_type_id, dtype: int64"
            ]
          },
          "metadata": {},
          "execution_count": 40
        }
      ]
    },
    {
      "cell_type": "markdown",
      "source": [
        "## Final features"
      ],
      "metadata": {
        "id": "l4Bv0WESCWXW"
      }
    },
    {
      "cell_type": "code",
      "source": [
        "patient_info = ['race', 'gender', 'age', 'admission_type_id',\n",
        "                'discharge_disposition_id','admission_source_id',\n",
        "                'medical_specialty','diagnosis_1','diagnosis_2', 'diagnosis_3',\n",
        "                'max_glu_serum', 'A1Cresult','change', 'diabetesMed']\n",
        "print(\"patient_information features : \",len(patient_info))\n",
        "\n",
        "drop_list_info = ['encounter_id', 'patient_nbr','weight','payer_code']\n",
        "\n",
        "patient_info_numeric = ['time_in_hospital','num_lab_procedures',\n",
        "                        'num_procedures','num_medications',\n",
        "                        'number_outpatient','number_emergency',\n",
        "                        'number_inpatient','number_diagnoses']\n",
        "print(\"Numeric features : \",len(patient_info_numeric))\n",
        "\n",
        "features_medicine = ['metformin','repaglinide', 'nateglinide', \n",
        "                     'chlorpropamide', 'glimepiride', 'glipizide', \n",
        "                     'glyburide', 'tolbutamide','pioglitazone', \n",
        "                     'rosiglitazone', 'acarbose', 'miglitol','tolazamide',\n",
        "                     'insulin','glyburide-metformin', 'glipizide-metformin']\n",
        "print(\"Appropriate medicine features : \",len(features_medicine))                  \n",
        "\n",
        "drop_list_medicine = ['acetohexamide','troglitazone','examide','citoglipton',\n",
        "                      'glimepiride-pioglitazone','metformin-rosiglitazone',\n",
        "                      'metformin-pioglitazone']"
      ],
      "metadata": {
        "colab": {
          "base_uri": "https://localhost:8080/"
        },
        "id": "W58JKRex_nwX",
        "outputId": "505d5fd2-53e2-45a8-8183-c32275a28d23"
      },
      "execution_count": null,
      "outputs": [
        {
          "output_type": "stream",
          "name": "stdout",
          "text": [
            "patient_information features :  14\n",
            "Numeric features :  8\n",
            "Appropriate medicine features :  16\n"
          ]
        }
      ]
    },
    {
      "cell_type": "code",
      "source": [
        "trf1 = ColumnTransformer([('labelencoder',OrdinalEncoder(),patient_info)],remainder='passthrough')\n",
        "\n",
        "trf2 = ColumnTransformer([('labelencoder',OrdinalEncoder(),features_medicine)],remainder='passthrough')"
      ],
      "metadata": {
        "id": "NsFocSkS_xYT"
      },
      "execution_count": null,
      "outputs": []
    },
    {
      "cell_type": "markdown",
      "source": [
        "## Final Encoding"
      ],
      "metadata": {
        "id": "3Zm6V9_fCc6I"
      }
    },
    {
      "cell_type": "code",
      "source": [
        "patient_info_encoder = OrdinalEncoder()\n",
        "encoding1 = patient_info_encoder.fit_transform(df[patient_info])"
      ],
      "metadata": {
        "id": "q6anTqgf_xbG"
      },
      "execution_count": null,
      "outputs": []
    },
    {
      "cell_type": "code",
      "source": [
        "encoding1 .shape"
      ],
      "metadata": {
        "colab": {
          "base_uri": "https://localhost:8080/"
        },
        "id": "IYJoYLYmDunp",
        "outputId": "4754308e-d018-4d97-aad8-7bb35496422a"
      },
      "execution_count": null,
      "outputs": [
        {
          "output_type": "execute_result",
          "data": {
            "text/plain": [
              "(101766, 14)"
            ]
          },
          "metadata": {},
          "execution_count": 43
        }
      ]
    },
    {
      "cell_type": "code",
      "source": [
        "medicine_encoder = OrdinalEncoder()\n",
        "encoding2 = medicine_encoder.fit_transform(df[features_medicine])"
      ],
      "metadata": {
        "id": "J947vH6PBlTR"
      },
      "execution_count": null,
      "outputs": []
    },
    {
      "cell_type": "code",
      "source": [
        "encoding2.shape"
      ],
      "metadata": {
        "colab": {
          "base_uri": "https://localhost:8080/"
        },
        "id": "aJpic_XgD6aL",
        "outputId": "ecce5091-0a15-49f9-86e8-5676aa814363"
      },
      "execution_count": null,
      "outputs": [
        {
          "output_type": "execute_result",
          "data": {
            "text/plain": [
              "(101766, 16)"
            ]
          },
          "metadata": {},
          "execution_count": 45
        }
      ]
    },
    {
      "cell_type": "code",
      "source": [
        "final_df = pd.concat([pd.DataFrame(encoding1 ,columns=patient_info),pd.DataFrame(encoding2,columns=features_medicine),\n",
        "                      df[patient_info_numeric]],axis=1)"
      ],
      "metadata": {
        "id": "5yPTBxu8CmPf"
      },
      "execution_count": null,
      "outputs": []
    },
    {
      "cell_type": "code",
      "source": [
        "final_df.shape"
      ],
      "metadata": {
        "colab": {
          "base_uri": "https://localhost:8080/"
        },
        "id": "n72-uFsxD9IT",
        "outputId": "a93ce7a1-6f07-49dd-ec97-6cac5bc58b36"
      },
      "execution_count": null,
      "outputs": [
        {
          "output_type": "execute_result",
          "data": {
            "text/plain": [
              "(101766, 38)"
            ]
          },
          "metadata": {},
          "execution_count": 47
        }
      ]
    },
    {
      "cell_type": "code",
      "source": [
        "df_with_dummies = pd.get_dummies(pd.concat([df[patient_info],df[features_medicine],df[patient_info_numeric]],axis=1),drop_first=True)"
      ],
      "metadata": {
        "id": "ypFofAj2Lgw2"
      },
      "execution_count": null,
      "outputs": []
    },
    {
      "cell_type": "markdown",
      "source": [
        "## KNN-Imputer"
      ],
      "metadata": {
        "id": "5aQCbAjwCKzZ"
      }
    },
    {
      "cell_type": "code",
      "source": [
        "Imputer = KNNImputer(n_neighbors=25)"
      ],
      "metadata": {
        "id": "gAFK_2uBCJ41"
      },
      "execution_count": null,
      "outputs": []
    },
    {
      "cell_type": "code",
      "source": [
        "df_modeling = pd.DataFrame(Imputer.fit_transform(final_df),columns=final_df.columns)"
      ],
      "metadata": {
        "id": "jwsoGxtEFLZh"
      },
      "execution_count": null,
      "outputs": []
    },
    {
      "cell_type": "code",
      "source": [
        "df_modeling"
      ],
      "metadata": {
        "colab": {
          "base_uri": "https://localhost:8080/",
          "height": 505
        },
        "id": "3yEnQwbMJQna",
        "outputId": "80d370f9-c194-468a-b58b-1847488d31bd"
      },
      "execution_count": null,
      "outputs": [
        {
          "output_type": "execute_result",
          "data": {
            "text/plain": [
              "        race  gender  age  admission_type_id  discharge_disposition_id  \\\n",
              "0        2.0     0.0  0.0                2.0                       1.0   \n",
              "1        2.0     0.0  1.0                1.0                       0.0   \n",
              "2        0.0     0.0  2.0                1.0                       0.0   \n",
              "3        2.0     1.0  3.0                1.0                       0.0   \n",
              "4        2.0     1.0  4.0                1.0                       0.0   \n",
              "...      ...     ...  ...                ...                       ...   \n",
              "101761   0.0     1.0  7.0                1.0                       2.0   \n",
              "101762   0.0     0.0  8.0                1.0                       2.0   \n",
              "101763   2.0     1.0  7.0                1.0                       0.0   \n",
              "101764   2.0     0.0  8.0                3.0                       2.0   \n",
              "101765   2.0     1.0  7.0                1.0                       0.0   \n",
              "\n",
              "        admission_source_id  medical_specialty  diagnosis_1  diagnosis_2  \\\n",
              "0                       1.0                4.0          0.0         6.84   \n",
              "1                       0.0                3.0          8.0         0.00   \n",
              "2                       0.0                3.0          8.0         0.00   \n",
              "3                       0.0                3.0          8.0         0.00   \n",
              "4                       0.0                3.0          5.0         5.00   \n",
              "...                     ...                ...          ...          ...   \n",
              "101761                  0.0                3.0          0.0         8.00   \n",
              "101762                  2.0                3.0          1.0         8.00   \n",
              "101763                  0.0                3.0          8.0         2.00   \n",
              "101764                  0.0                5.0          3.0         8.00   \n",
              "101765                  0.0                3.0          1.0         1.00   \n",
              "\n",
              "        diagnosis_3  ...  glyburide-metformin  glipizide-metformin  \\\n",
              "0              6.04  ...                  1.0                  0.0   \n",
              "1              8.00  ...                  1.0                  0.0   \n",
              "2              8.00  ...                  1.0                  0.0   \n",
              "3              7.00  ...                  1.0                  0.0   \n",
              "4              0.00  ...                  1.0                  0.0   \n",
              "...             ...  ...                  ...                  ...   \n",
              "101761         7.00  ...                  1.0                  0.0   \n",
              "101762         1.00  ...                  1.0                  0.0   \n",
              "101763         8.00  ...                  1.0                  0.0   \n",
              "101764         3.00  ...                  1.0                  0.0   \n",
              "101765         1.00  ...                  1.0                  0.0   \n",
              "\n",
              "        time_in_hospital  num_lab_procedures  num_procedures  num_medications  \\\n",
              "0                    1.0                41.0             0.0              1.0   \n",
              "1                    3.0                59.0             0.0             18.0   \n",
              "2                    2.0                11.0             5.0             13.0   \n",
              "3                    2.0                44.0             1.0             16.0   \n",
              "4                    1.0                51.0             0.0              8.0   \n",
              "...                  ...                 ...             ...              ...   \n",
              "101761               3.0                51.0             0.0             16.0   \n",
              "101762               5.0                33.0             3.0             18.0   \n",
              "101763               1.0                53.0             0.0              9.0   \n",
              "101764              10.0                45.0             2.0             21.0   \n",
              "101765               6.0                13.0             3.0              3.0   \n",
              "\n",
              "        number_outpatient  number_emergency  number_inpatient  \\\n",
              "0                     0.0               0.0               0.0   \n",
              "1                     0.0               0.0               0.0   \n",
              "2                     2.0               0.0               1.0   \n",
              "3                     0.0               0.0               0.0   \n",
              "4                     0.0               0.0               0.0   \n",
              "...                   ...               ...               ...   \n",
              "101761                0.0               0.0               0.0   \n",
              "101762                0.0               0.0               1.0   \n",
              "101763                1.0               0.0               0.0   \n",
              "101764                0.0               0.0               1.0   \n",
              "101765                0.0               0.0               0.0   \n",
              "\n",
              "        number_diagnoses  \n",
              "0                    1.0  \n",
              "1                    9.0  \n",
              "2                    6.0  \n",
              "3                    7.0  \n",
              "4                    5.0  \n",
              "...                  ...  \n",
              "101761               9.0  \n",
              "101762               9.0  \n",
              "101763              13.0  \n",
              "101764               9.0  \n",
              "101765               9.0  \n",
              "\n",
              "[101766 rows x 38 columns]"
            ],
            "text/html": [
              "\n",
              "  <div id=\"df-7cb97a44-4fc0-4cdc-8b95-083537f53520\">\n",
              "    <div class=\"colab-df-container\">\n",
              "      <div>\n",
              "<style scoped>\n",
              "    .dataframe tbody tr th:only-of-type {\n",
              "        vertical-align: middle;\n",
              "    }\n",
              "\n",
              "    .dataframe tbody tr th {\n",
              "        vertical-align: top;\n",
              "    }\n",
              "\n",
              "    .dataframe thead th {\n",
              "        text-align: right;\n",
              "    }\n",
              "</style>\n",
              "<table border=\"1\" class=\"dataframe\">\n",
              "  <thead>\n",
              "    <tr style=\"text-align: right;\">\n",
              "      <th></th>\n",
              "      <th>race</th>\n",
              "      <th>gender</th>\n",
              "      <th>age</th>\n",
              "      <th>admission_type_id</th>\n",
              "      <th>discharge_disposition_id</th>\n",
              "      <th>admission_source_id</th>\n",
              "      <th>medical_specialty</th>\n",
              "      <th>diagnosis_1</th>\n",
              "      <th>diagnosis_2</th>\n",
              "      <th>diagnosis_3</th>\n",
              "      <th>...</th>\n",
              "      <th>glyburide-metformin</th>\n",
              "      <th>glipizide-metformin</th>\n",
              "      <th>time_in_hospital</th>\n",
              "      <th>num_lab_procedures</th>\n",
              "      <th>num_procedures</th>\n",
              "      <th>num_medications</th>\n",
              "      <th>number_outpatient</th>\n",
              "      <th>number_emergency</th>\n",
              "      <th>number_inpatient</th>\n",
              "      <th>number_diagnoses</th>\n",
              "    </tr>\n",
              "  </thead>\n",
              "  <tbody>\n",
              "    <tr>\n",
              "      <th>0</th>\n",
              "      <td>2.0</td>\n",
              "      <td>0.0</td>\n",
              "      <td>0.0</td>\n",
              "      <td>2.0</td>\n",
              "      <td>1.0</td>\n",
              "      <td>1.0</td>\n",
              "      <td>4.0</td>\n",
              "      <td>0.0</td>\n",
              "      <td>6.84</td>\n",
              "      <td>6.04</td>\n",
              "      <td>...</td>\n",
              "      <td>1.0</td>\n",
              "      <td>0.0</td>\n",
              "      <td>1.0</td>\n",
              "      <td>41.0</td>\n",
              "      <td>0.0</td>\n",
              "      <td>1.0</td>\n",
              "      <td>0.0</td>\n",
              "      <td>0.0</td>\n",
              "      <td>0.0</td>\n",
              "      <td>1.0</td>\n",
              "    </tr>\n",
              "    <tr>\n",
              "      <th>1</th>\n",
              "      <td>2.0</td>\n",
              "      <td>0.0</td>\n",
              "      <td>1.0</td>\n",
              "      <td>1.0</td>\n",
              "      <td>0.0</td>\n",
              "      <td>0.0</td>\n",
              "      <td>3.0</td>\n",
              "      <td>8.0</td>\n",
              "      <td>0.00</td>\n",
              "      <td>8.00</td>\n",
              "      <td>...</td>\n",
              "      <td>1.0</td>\n",
              "      <td>0.0</td>\n",
              "      <td>3.0</td>\n",
              "      <td>59.0</td>\n",
              "      <td>0.0</td>\n",
              "      <td>18.0</td>\n",
              "      <td>0.0</td>\n",
              "      <td>0.0</td>\n",
              "      <td>0.0</td>\n",
              "      <td>9.0</td>\n",
              "    </tr>\n",
              "    <tr>\n",
              "      <th>2</th>\n",
              "      <td>0.0</td>\n",
              "      <td>0.0</td>\n",
              "      <td>2.0</td>\n",
              "      <td>1.0</td>\n",
              "      <td>0.0</td>\n",
              "      <td>0.0</td>\n",
              "      <td>3.0</td>\n",
              "      <td>8.0</td>\n",
              "      <td>0.00</td>\n",
              "      <td>8.00</td>\n",
              "      <td>...</td>\n",
              "      <td>1.0</td>\n",
              "      <td>0.0</td>\n",
              "      <td>2.0</td>\n",
              "      <td>11.0</td>\n",
              "      <td>5.0</td>\n",
              "      <td>13.0</td>\n",
              "      <td>2.0</td>\n",
              "      <td>0.0</td>\n",
              "      <td>1.0</td>\n",
              "      <td>6.0</td>\n",
              "    </tr>\n",
              "    <tr>\n",
              "      <th>3</th>\n",
              "      <td>2.0</td>\n",
              "      <td>1.0</td>\n",
              "      <td>3.0</td>\n",
              "      <td>1.0</td>\n",
              "      <td>0.0</td>\n",
              "      <td>0.0</td>\n",
              "      <td>3.0</td>\n",
              "      <td>8.0</td>\n",
              "      <td>0.00</td>\n",
              "      <td>7.00</td>\n",
              "      <td>...</td>\n",
              "      <td>1.0</td>\n",
              "      <td>0.0</td>\n",
              "      <td>2.0</td>\n",
              "      <td>44.0</td>\n",
              "      <td>1.0</td>\n",
              "      <td>16.0</td>\n",
              "      <td>0.0</td>\n",
              "      <td>0.0</td>\n",
              "      <td>0.0</td>\n",
              "      <td>7.0</td>\n",
              "    </tr>\n",
              "    <tr>\n",
              "      <th>4</th>\n",
              "      <td>2.0</td>\n",
              "      <td>1.0</td>\n",
              "      <td>4.0</td>\n",
              "      <td>1.0</td>\n",
              "      <td>0.0</td>\n",
              "      <td>0.0</td>\n",
              "      <td>3.0</td>\n",
              "      <td>5.0</td>\n",
              "      <td>5.00</td>\n",
              "      <td>0.00</td>\n",
              "      <td>...</td>\n",
              "      <td>1.0</td>\n",
              "      <td>0.0</td>\n",
              "      <td>1.0</td>\n",
              "      <td>51.0</td>\n",
              "      <td>0.0</td>\n",
              "      <td>8.0</td>\n",
              "      <td>0.0</td>\n",
              "      <td>0.0</td>\n",
              "      <td>0.0</td>\n",
              "      <td>5.0</td>\n",
              "    </tr>\n",
              "    <tr>\n",
              "      <th>...</th>\n",
              "      <td>...</td>\n",
              "      <td>...</td>\n",
              "      <td>...</td>\n",
              "      <td>...</td>\n",
              "      <td>...</td>\n",
              "      <td>...</td>\n",
              "      <td>...</td>\n",
              "      <td>...</td>\n",
              "      <td>...</td>\n",
              "      <td>...</td>\n",
              "      <td>...</td>\n",
              "      <td>...</td>\n",
              "      <td>...</td>\n",
              "      <td>...</td>\n",
              "      <td>...</td>\n",
              "      <td>...</td>\n",
              "      <td>...</td>\n",
              "      <td>...</td>\n",
              "      <td>...</td>\n",
              "      <td>...</td>\n",
              "      <td>...</td>\n",
              "    </tr>\n",
              "    <tr>\n",
              "      <th>101761</th>\n",
              "      <td>0.0</td>\n",
              "      <td>1.0</td>\n",
              "      <td>7.0</td>\n",
              "      <td>1.0</td>\n",
              "      <td>2.0</td>\n",
              "      <td>0.0</td>\n",
              "      <td>3.0</td>\n",
              "      <td>0.0</td>\n",
              "      <td>8.00</td>\n",
              "      <td>7.00</td>\n",
              "      <td>...</td>\n",
              "      <td>1.0</td>\n",
              "      <td>0.0</td>\n",
              "      <td>3.0</td>\n",
              "      <td>51.0</td>\n",
              "      <td>0.0</td>\n",
              "      <td>16.0</td>\n",
              "      <td>0.0</td>\n",
              "      <td>0.0</td>\n",
              "      <td>0.0</td>\n",
              "      <td>9.0</td>\n",
              "    </tr>\n",
              "    <tr>\n",
              "      <th>101762</th>\n",
              "      <td>0.0</td>\n",
              "      <td>0.0</td>\n",
              "      <td>8.0</td>\n",
              "      <td>1.0</td>\n",
              "      <td>2.0</td>\n",
              "      <td>2.0</td>\n",
              "      <td>3.0</td>\n",
              "      <td>1.0</td>\n",
              "      <td>8.00</td>\n",
              "      <td>1.00</td>\n",
              "      <td>...</td>\n",
              "      <td>1.0</td>\n",
              "      <td>0.0</td>\n",
              "      <td>5.0</td>\n",
              "      <td>33.0</td>\n",
              "      <td>3.0</td>\n",
              "      <td>18.0</td>\n",
              "      <td>0.0</td>\n",
              "      <td>0.0</td>\n",
              "      <td>1.0</td>\n",
              "      <td>9.0</td>\n",
              "    </tr>\n",
              "    <tr>\n",
              "      <th>101763</th>\n",
              "      <td>2.0</td>\n",
              "      <td>1.0</td>\n",
              "      <td>7.0</td>\n",
              "      <td>1.0</td>\n",
              "      <td>0.0</td>\n",
              "      <td>0.0</td>\n",
              "      <td>3.0</td>\n",
              "      <td>8.0</td>\n",
              "      <td>2.00</td>\n",
              "      <td>8.00</td>\n",
              "      <td>...</td>\n",
              "      <td>1.0</td>\n",
              "      <td>0.0</td>\n",
              "      <td>1.0</td>\n",
              "      <td>53.0</td>\n",
              "      <td>0.0</td>\n",
              "      <td>9.0</td>\n",
              "      <td>1.0</td>\n",
              "      <td>0.0</td>\n",
              "      <td>0.0</td>\n",
              "      <td>13.0</td>\n",
              "    </tr>\n",
              "    <tr>\n",
              "      <th>101764</th>\n",
              "      <td>2.0</td>\n",
              "      <td>0.0</td>\n",
              "      <td>8.0</td>\n",
              "      <td>3.0</td>\n",
              "      <td>2.0</td>\n",
              "      <td>0.0</td>\n",
              "      <td>5.0</td>\n",
              "      <td>3.0</td>\n",
              "      <td>8.00</td>\n",
              "      <td>3.00</td>\n",
              "      <td>...</td>\n",
              "      <td>1.0</td>\n",
              "      <td>0.0</td>\n",
              "      <td>10.0</td>\n",
              "      <td>45.0</td>\n",
              "      <td>2.0</td>\n",
              "      <td>21.0</td>\n",
              "      <td>0.0</td>\n",
              "      <td>0.0</td>\n",
              "      <td>1.0</td>\n",
              "      <td>9.0</td>\n",
              "    </tr>\n",
              "    <tr>\n",
              "      <th>101765</th>\n",
              "      <td>2.0</td>\n",
              "      <td>1.0</td>\n",
              "      <td>7.0</td>\n",
              "      <td>1.0</td>\n",
              "      <td>0.0</td>\n",
              "      <td>0.0</td>\n",
              "      <td>3.0</td>\n",
              "      <td>1.0</td>\n",
              "      <td>1.00</td>\n",
              "      <td>1.00</td>\n",
              "      <td>...</td>\n",
              "      <td>1.0</td>\n",
              "      <td>0.0</td>\n",
              "      <td>6.0</td>\n",
              "      <td>13.0</td>\n",
              "      <td>3.0</td>\n",
              "      <td>3.0</td>\n",
              "      <td>0.0</td>\n",
              "      <td>0.0</td>\n",
              "      <td>0.0</td>\n",
              "      <td>9.0</td>\n",
              "    </tr>\n",
              "  </tbody>\n",
              "</table>\n",
              "<p>101766 rows × 38 columns</p>\n",
              "</div>\n",
              "      <button class=\"colab-df-convert\" onclick=\"convertToInteractive('df-7cb97a44-4fc0-4cdc-8b95-083537f53520')\"\n",
              "              title=\"Convert this dataframe to an interactive table.\"\n",
              "              style=\"display:none;\">\n",
              "        \n",
              "  <svg xmlns=\"http://www.w3.org/2000/svg\" height=\"24px\"viewBox=\"0 0 24 24\"\n",
              "       width=\"24px\">\n",
              "    <path d=\"M0 0h24v24H0V0z\" fill=\"none\"/>\n",
              "    <path d=\"M18.56 5.44l.94 2.06.94-2.06 2.06-.94-2.06-.94-.94-2.06-.94 2.06-2.06.94zm-11 1L8.5 8.5l.94-2.06 2.06-.94-2.06-.94L8.5 2.5l-.94 2.06-2.06.94zm10 10l.94 2.06.94-2.06 2.06-.94-2.06-.94-.94-2.06-.94 2.06-2.06.94z\"/><path d=\"M17.41 7.96l-1.37-1.37c-.4-.4-.92-.59-1.43-.59-.52 0-1.04.2-1.43.59L10.3 9.45l-7.72 7.72c-.78.78-.78 2.05 0 2.83L4 21.41c.39.39.9.59 1.41.59.51 0 1.02-.2 1.41-.59l7.78-7.78 2.81-2.81c.8-.78.8-2.07 0-2.86zM5.41 20L4 18.59l7.72-7.72 1.47 1.35L5.41 20z\"/>\n",
              "  </svg>\n",
              "      </button>\n",
              "      \n",
              "  <style>\n",
              "    .colab-df-container {\n",
              "      display:flex;\n",
              "      flex-wrap:wrap;\n",
              "      gap: 12px;\n",
              "    }\n",
              "\n",
              "    .colab-df-convert {\n",
              "      background-color: #E8F0FE;\n",
              "      border: none;\n",
              "      border-radius: 50%;\n",
              "      cursor: pointer;\n",
              "      display: none;\n",
              "      fill: #1967D2;\n",
              "      height: 32px;\n",
              "      padding: 0 0 0 0;\n",
              "      width: 32px;\n",
              "    }\n",
              "\n",
              "    .colab-df-convert:hover {\n",
              "      background-color: #E2EBFA;\n",
              "      box-shadow: 0px 1px 2px rgba(60, 64, 67, 0.3), 0px 1px 3px 1px rgba(60, 64, 67, 0.15);\n",
              "      fill: #174EA6;\n",
              "    }\n",
              "\n",
              "    [theme=dark] .colab-df-convert {\n",
              "      background-color: #3B4455;\n",
              "      fill: #D2E3FC;\n",
              "    }\n",
              "\n",
              "    [theme=dark] .colab-df-convert:hover {\n",
              "      background-color: #434B5C;\n",
              "      box-shadow: 0px 1px 3px 1px rgba(0, 0, 0, 0.15);\n",
              "      filter: drop-shadow(0px 1px 2px rgba(0, 0, 0, 0.3));\n",
              "      fill: #FFFFFF;\n",
              "    }\n",
              "  </style>\n",
              "\n",
              "      <script>\n",
              "        const buttonEl =\n",
              "          document.querySelector('#df-7cb97a44-4fc0-4cdc-8b95-083537f53520 button.colab-df-convert');\n",
              "        buttonEl.style.display =\n",
              "          google.colab.kernel.accessAllowed ? 'block' : 'none';\n",
              "\n",
              "        async function convertToInteractive(key) {\n",
              "          const element = document.querySelector('#df-7cb97a44-4fc0-4cdc-8b95-083537f53520');\n",
              "          const dataTable =\n",
              "            await google.colab.kernel.invokeFunction('convertToInteractive',\n",
              "                                                     [key], {});\n",
              "          if (!dataTable) return;\n",
              "\n",
              "          const docLinkHtml = 'Like what you see? Visit the ' +\n",
              "            '<a target=\"_blank\" href=https://colab.research.google.com/notebooks/data_table.ipynb>data table notebook</a>'\n",
              "            + ' to learn more about interactive tables.';\n",
              "          element.innerHTML = '';\n",
              "          dataTable['output_type'] = 'display_data';\n",
              "          await google.colab.output.renderOutput(dataTable, element);\n",
              "          const docLink = document.createElement('div');\n",
              "          docLink.innerHTML = docLinkHtml;\n",
              "          element.appendChild(docLink);\n",
              "        }\n",
              "      </script>\n",
              "    </div>\n",
              "  </div>\n",
              "  "
            ]
          },
          "metadata": {},
          "execution_count": 54
        }
      ]
    },
    {
      "cell_type": "code",
      "source": [
        "df_modeling.to_csv('/content/drive/MyDrive/PROJECT/KNN25_imputed.csv')"
      ],
      "metadata": {
        "id": "0ddKCYsyj7ti"
      },
      "execution_count": null,
      "outputs": []
    },
    {
      "cell_type": "code",
      "source": [
        "df_modeling.medical_specialty.round(0).value_counts()"
      ],
      "metadata": {
        "colab": {
          "base_uri": "https://localhost:8080/"
        },
        "id": "fUguRCaURHjJ",
        "outputId": "1ae1fcee-eed9-48ef-8b33-664f1fb7a008"
      },
      "execution_count": null,
      "outputs": [
        {
          "output_type": "execute_result",
          "data": {
            "text/plain": [
              "2.0    47880\n",
              "3.0    30823\n",
              "1.0    12387\n",
              "0.0     5520\n",
              "4.0     5156\n",
              "Name: medical_specialty, dtype: int64"
            ]
          },
          "metadata": {},
          "execution_count": 151
        }
      ]
    },
    {
      "cell_type": "code",
      "source": [
        "df_modeling.diagnosis_1.round(0).value_counts()"
      ],
      "metadata": {
        "colab": {
          "base_uri": "https://localhost:8080/"
        },
        "id": "4YWILCERRbHA",
        "outputId": "a0e87c53-29ca-4c26-a7f8-a60de46b284a"
      },
      "execution_count": null,
      "outputs": [
        {
          "output_type": "execute_result",
          "data": {
            "text/plain": [
              "7.0    30439\n",
              "8.0    18157\n",
              "6.0    14427\n",
              "1.0     9475\n",
              "0.0     8772\n",
              "3.0     6977\n",
              "2.0     5117\n",
              "4.0     4962\n",
              "5.0     3440\n",
              "Name: diagnosis_1, dtype: int64"
            ]
          },
          "metadata": {},
          "execution_count": 152
        }
      ]
    },
    {
      "cell_type": "code",
      "source": [
        "!pip install fancyimpute"
      ],
      "metadata": {
        "colab": {
          "base_uri": "https://localhost:8080/"
        },
        "id": "-9O1nbnYRMEF",
        "outputId": "ea04a749-eaf9-46b6-a767-a573d6f5f859"
      },
      "execution_count": null,
      "outputs": [
        {
          "output_type": "stream",
          "name": "stdout",
          "text": [
            "Looking in indexes: https://pypi.org/simple, https://us-python.pkg.dev/colab-wheels/public/simple/\n",
            "Collecting fancyimpute\n",
            "  Downloading fancyimpute-0.7.0.tar.gz (25 kB)\n",
            "Collecting knnimpute>=0.1.0\n",
            "  Downloading knnimpute-0.1.0.tar.gz (8.3 kB)\n",
            "Requirement already satisfied: scikit-learn>=0.24.2 in /usr/local/lib/python3.7/dist-packages (from fancyimpute) (1.0.2)\n",
            "Requirement already satisfied: cvxpy in /usr/local/lib/python3.7/dist-packages (from fancyimpute) (1.2.1)\n",
            "Requirement already satisfied: cvxopt in /usr/local/lib/python3.7/dist-packages (from fancyimpute) (1.3.0)\n",
            "Requirement already satisfied: pytest in /usr/local/lib/python3.7/dist-packages (from fancyimpute) (3.6.4)\n",
            "Collecting nose\n",
            "  Downloading nose-1.3.7-py3-none-any.whl (154 kB)\n",
            "\u001b[K     |████████████████████████████████| 154 kB 11.3 MB/s \n",
            "\u001b[?25hRequirement already satisfied: six in /usr/local/lib/python3.7/dist-packages (from knnimpute>=0.1.0->fancyimpute) (1.15.0)\n",
            "Requirement already satisfied: numpy>=1.10 in /usr/local/lib/python3.7/dist-packages (from knnimpute>=0.1.0->fancyimpute) (1.21.6)\n",
            "Requirement already satisfied: threadpoolctl>=2.0.0 in /usr/local/lib/python3.7/dist-packages (from scikit-learn>=0.24.2->fancyimpute) (3.1.0)\n",
            "Requirement already satisfied: scipy>=1.1.0 in /usr/local/lib/python3.7/dist-packages (from scikit-learn>=0.24.2->fancyimpute) (1.7.3)\n",
            "Requirement already satisfied: joblib>=0.11 in /usr/local/lib/python3.7/dist-packages (from scikit-learn>=0.24.2->fancyimpute) (1.1.0)\n",
            "Requirement already satisfied: ecos>=2 in /usr/local/lib/python3.7/dist-packages (from cvxpy->fancyimpute) (2.0.10)\n",
            "Requirement already satisfied: osqp>=0.4.1 in /usr/local/lib/python3.7/dist-packages (from cvxpy->fancyimpute) (0.6.2.post0)\n",
            "Requirement already satisfied: scs>=1.1.6 in /usr/local/lib/python3.7/dist-packages (from cvxpy->fancyimpute) (3.2.0)\n",
            "Requirement already satisfied: qdldl in /usr/local/lib/python3.7/dist-packages (from osqp>=0.4.1->cvxpy->fancyimpute) (0.1.5.post2)\n",
            "Requirement already satisfied: attrs>=17.4.0 in /usr/local/lib/python3.7/dist-packages (from pytest->fancyimpute) (22.1.0)\n",
            "Requirement already satisfied: pluggy<0.8,>=0.5 in /usr/local/lib/python3.7/dist-packages (from pytest->fancyimpute) (0.7.1)\n",
            "Requirement already satisfied: py>=1.5.0 in /usr/local/lib/python3.7/dist-packages (from pytest->fancyimpute) (1.11.0)\n",
            "Requirement already satisfied: setuptools in /usr/local/lib/python3.7/dist-packages (from pytest->fancyimpute) (57.4.0)\n",
            "Requirement already satisfied: atomicwrites>=1.0 in /usr/local/lib/python3.7/dist-packages (from pytest->fancyimpute) (1.4.1)\n",
            "Requirement already satisfied: more-itertools>=4.0.0 in /usr/local/lib/python3.7/dist-packages (from pytest->fancyimpute) (8.14.0)\n",
            "Building wheels for collected packages: fancyimpute, knnimpute\n",
            "  Building wheel for fancyimpute (setup.py) ... \u001b[?25l\u001b[?25hdone\n",
            "  Created wheel for fancyimpute: filename=fancyimpute-0.7.0-py3-none-any.whl size=29899 sha256=ac8f63aea4805bed899a2970acb7dcbacba17ec61741b1246586ef04177a094a\n",
            "  Stored in directory: /root/.cache/pip/wheels/e3/04/06/a1a7d89ef4e631ce6268ea2d8cde04f7290651c1ff1025ce68\n",
            "  Building wheel for knnimpute (setup.py) ... \u001b[?25l\u001b[?25hdone\n",
            "  Created wheel for knnimpute: filename=knnimpute-0.1.0-py3-none-any.whl size=11353 sha256=f6d36e0fbbac7ce977d1afe763ec129d7d3fb0c4b1fa827205359ea0b7e57f7e\n",
            "  Stored in directory: /root/.cache/pip/wheels/72/21/a8/a045cacd9838abd5643f6bfa852c0796a99d6b1494760494e0\n",
            "Successfully built fancyimpute knnimpute\n",
            "Installing collected packages: nose, knnimpute, fancyimpute\n",
            "Successfully installed fancyimpute-0.7.0 knnimpute-0.1.0 nose-1.3.7\n"
          ]
        }
      ]
    },
    {
      "cell_type": "code",
      "source": [
        "from fancyimpute import "
      ],
      "metadata": {
        "id": "Kshr_ZBHlCMA"
      },
      "execution_count": null,
      "outputs": []
    },
    {
      "cell_type": "code",
      "source": [
        "Imputer.feature_names_in_"
      ],
      "metadata": {
        "colab": {
          "base_uri": "https://localhost:8080/"
        },
        "id": "7Jl6CWwTXluH",
        "outputId": "ac78bc65-9c55-4f23-b369-b82b87c61fa6"
      },
      "execution_count": null,
      "outputs": [
        {
          "output_type": "execute_result",
          "data": {
            "text/plain": [
              "array(['race', 'gender', 'age', 'admission_type_id',\n",
              "       'discharge_disposition_id', 'admission_source_id',\n",
              "       'medical_specialty', 'diagnosis_1', 'diagnosis_2', 'diagnosis_3',\n",
              "       'max_glu_serum', 'A1Cresult', 'change', 'diabetesMed', 'metformin',\n",
              "       'repaglinide', 'nateglinide', 'chlorpropamide', 'glimepiride',\n",
              "       'glipizide', 'glyburide', 'tolbutamide', 'pioglitazone',\n",
              "       'rosiglitazone', 'acarbose', 'miglitol', 'tolazamide', 'insulin',\n",
              "       'glyburide-metformin', 'glipizide-metformin', 'time_in_hospital',\n",
              "       'num_lab_procedures', 'num_procedures', 'num_medications',\n",
              "       'number_outpatient', 'number_emergency', 'number_inpatient',\n",
              "       'number_diagnoses'], dtype=object)"
            ]
          },
          "metadata": {},
          "execution_count": 57
        }
      ]
    },
    {
      "cell_type": "code",
      "source": [],
      "metadata": {
        "id": "qe4ictqTXsbr"
      },
      "execution_count": null,
      "outputs": []
    }
  ]
}